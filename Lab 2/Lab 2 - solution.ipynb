{
 "cells": [
  {
   "cell_type": "markdown",
   "metadata": {},
   "source": [
    "# Lab 2 - Statistical Inference\n",
    "\n",
    "## Preparation Phase"
   ]
  },
  {
   "cell_type": "code",
   "execution_count": 1,
   "metadata": {
    "vscode": {
     "languageId": "r"
    }
   },
   "outputs": [
    {
     "name": "stderr",
     "output_type": "stream",
     "text": [
      "Warning message:\n",
      "\"package 'readxl' was built under R version 4.4.2\"\n"
     ]
    }
   ],
   "source": [
    "library(\"readxl\")"
   ]
  },
  {
   "cell_type": "code",
   "execution_count": 2,
   "metadata": {
    "vscode": {
     "languageId": "r"
    }
   },
   "outputs": [
    {
     "data": {
      "text/html": [
       "<style>\n",
       ".list-inline {list-style: none; margin:0; padding: 0}\n",
       ".list-inline>li {display: inline-block}\n",
       ".list-inline>li:not(:last-child)::after {content: \"\\00b7\"; padding: 0 .5ex}\n",
       "</style>\n",
       "<ol class=list-inline><li>75</li><li>4</li></ol>\n"
      ],
      "text/latex": [
       "\\begin{enumerate*}\n",
       "\\item 75\n",
       "\\item 4\n",
       "\\end{enumerate*}\n"
      ],
      "text/markdown": [
       "1. 75\n",
       "2. 4\n",
       "\n",
       "\n"
      ],
      "text/plain": [
       "[1] 75  4"
      ]
     },
     "metadata": {},
     "output_type": "display_data"
    },
    {
     "data": {
      "text/plain": [
       "     Sex               BodyMass       Captured           EarLength    \n",
       " Length:75          Min.   :36.30   Length:75          Min.   :21.60  \n",
       " Class :character   1st Qu.:45.70   Class :character   1st Qu.:25.50  \n",
       " Mode  :character   Median :49.70   Mode  :character   Median :30.50  \n",
       "                    Mean   :49.52                      Mean   :30.52  \n",
       "                    3rd Qu.:53.50                      3rd Qu.:35.15  \n",
       "                    Max.   :67.40                      Max.   :40.00  "
      ]
     },
     "metadata": {},
     "output_type": "display_data"
    }
   ],
   "source": [
    "df <- read_excel(\"ElephantShrew.xlsx\")\n",
    "dim(df)\n",
    "summary(df)"
   ]
  },
  {
   "cell_type": "markdown",
   "metadata": {},
   "source": [
    "There 4 variables in the dataset:\n",
    "- Sex: nominal, with two values\n",
    "- BodyMass: ratio\n",
    "- Captured: nominal, with two values\n",
    "- EarLength: ratio\n",
    "\n",
    "The measurement level is important because it helps analysts to find the right way to do statistcal tests, descriptive analysis and mathematical processing, which would influence the validity of data analysis and conclusions."
   ]
  },
  {
   "cell_type": "markdown",
   "metadata": {},
   "source": [
    "## Question 4"
   ]
  },
  {
   "cell_type": "markdown",
   "metadata": {},
   "source": [
    "We are gonna calculate the 95% CI for the BodyMass:\n",
    "- the population sd is unknown to us, thus the t-statistics needs to be calculated, instead of z-statistics.\n",
    "- we don't know whether the bodymass of the population is noamally distributed, but fortunately we got a large enough sample size (n = 75) to conduct the estimation (so that the distribution of the sample mean would be roughtly normal).\n",
    "- next we need to calculate the t-statistics, given the df = 74 and alpha = 0.05."
   ]
  },
  {
   "cell_type": "code",
   "execution_count": 3,
   "metadata": {
    "vscode": {
     "languageId": "r"
    }
   },
   "outputs": [
    {
     "name": "stdout",
     "output_type": "stream",
     "text": [
      "[1] 51.05747\n"
     ]
    },
    {
     "name": "stdout",
     "output_type": "stream",
     "text": [
      "[1] 47.97986\n"
     ]
    }
   ],
   "source": [
    "upper_cv <- qt(p = 0.975,df = 74)\n",
    "se <- sd(df$BodyMass) / sqrt(75)\n",
    "upper_limit <- mean(df$BodyMass) + upper_cv * se\n",
    "lower_limit <- mean(df$BodyMass) - upper_cv * se\n",
    "\n",
    "print(upper_limit)\n",
    "print(lower_limit)"
   ]
  },
  {
   "cell_type": "markdown",
   "metadata": {},
   "source": [
    "## Question 5 and 6"
   ]
  },
  {
   "cell_type": "markdown",
   "metadata": {},
   "source": [
    "We are 95% sure that the parameter of the population (bodymass) is in this interval, which means if we repeatedly sampling and calculate this way, around 95% of the CIs will contain the real parameter.\n",
    "\n",
    "If we increase the confidence level (e.g., from 95% to 99%), than the CI we get will be wider, because as the confidence level going up, the absolute value of critical value (i.e., t_{frac{\\alpha}{2}}, the reason is trivial: we should make the distance between two critical values larger to make the square under the density function larger, so that the confidence level will go up) will go up either, making the upper bound larger and lower bound smaller."
   ]
  },
  {
   "cell_type": "markdown",
   "metadata": {},
   "source": [
    "## Question 7"
   ]
  },
  {
   "cell_type": "code",
   "execution_count": 4,
   "metadata": {
    "vscode": {
     "languageId": "r"
    }
   },
   "outputs": [
    {
     "name": "stdout",
     "output_type": "stream",
     "text": [
      "[1] 51.56051\n",
      "[1] 47.47682\n"
     ]
    }
   ],
   "source": [
    "upper_cv <- qt(p = 0.995,df = 74)\n",
    "se <- sd(df$BodyMass) / sqrt(75)\n",
    "upper_limit <- mean(df$BodyMass) + upper_cv * se\n",
    "lower_limit <- mean(df$BodyMass) - upper_cv * se\n",
    "\n",
    "print(upper_limit)\n",
    "print(lower_limit)"
   ]
  },
  {
   "cell_type": "markdown",
   "metadata": {},
   "source": [
    "## Question 8"
   ]
  },
  {
   "cell_type": "markdown",
   "metadata": {},
   "source": [
    "We are gonna do this one-sample test:\n",
    "- following the same reason, we will conduct the t-test instead of z-test, with a significant level of 0.05.\n",
    "- H0: the average bodymass is no greater than 48 (miu <= 48)\n",
    "- H1: the average bodymass is greater than 48 (miu > 48)\n",
    "- thus the test is one-sided, we can use the argument \"alternative\", letting it be \"greater\"."
   ]
  },
  {
   "cell_type": "code",
   "execution_count": 5,
   "metadata": {
    "vscode": {
     "languageId": "r"
    }
   },
   "outputs": [
    {
     "name": "stdout",
     "output_type": "stream",
     "text": [
      "[1] 1.966465\n",
      "[1] 1.665707\n",
      "[1] 0.02649777\n"
     ]
    }
   ],
   "source": [
    "# First we mannully do the t-test\n",
    "t_statistics <- (mean(df$BodyMass) - 48) / se\n",
    "p_value <- 1 - pt(q = t_statistics,df = 74)\n",
    "cv <- qt(0.95,df = 74)\n",
    "\n",
    "print(t_statistics)\n",
    "print(cv)\n",
    "print(p_value)"
   ]
  },
  {
   "cell_type": "markdown",
   "metadata": {},
   "source": [
    "As can be seen above, the t_statistics is larger than the critical value, meaning that the value is in the reject region, and the p value is smaller than the sig level we set before. Therefore we can reasonably reject H0 and say we are 95% sure that the bodymass of the population is greater than 48.\n",
    "\n",
    "Then we can use the built-in function to validate our result:"
   ]
  },
  {
   "cell_type": "code",
   "execution_count": 6,
   "metadata": {
    "vscode": {
     "languageId": "r"
    }
   },
   "outputs": [
    {
     "data": {
      "text/plain": [
       "\n",
       "\tOne Sample t-test\n",
       "\n",
       "data:  df$BodyMass\n",
       "t = 1.9665, df = 74, p-value = 0.0265\n",
       "alternative hypothesis: true mean is greater than 48\n",
       "95 percent confidence interval:\n",
       " 48.23227      Inf\n",
       "sample estimates:\n",
       "mean of x \n",
       " 49.51867 \n"
      ]
     },
     "metadata": {},
     "output_type": "display_data"
    }
   ],
   "source": [
    "t.test(x = df$BodyMass, mu = 48, alternative = \"greater\")"
   ]
  },
  {
   "cell_type": "markdown",
   "metadata": {},
   "source": [
    "## Question 9"
   ]
  },
  {
   "cell_type": "code",
   "execution_count": 7,
   "metadata": {
    "vscode": {
     "languageId": "r"
    }
   },
   "outputs": [
    {
     "data": {
      "text/plain": [
       "\n",
       "\tF test to compare two variances\n",
       "\n",
       "data:  BodyMass by Sex\n",
       "F = 1.1105, num df = 33, denom df = 40, p-value = 0.7459\n",
       "alternative hypothesis: true ratio of variances is not equal to 1\n",
       "95 percent confidence interval:\n",
       " 0.5787515 2.1764584\n",
       "sample estimates:\n",
       "ratio of variances \n",
       "           1.11049 \n"
      ]
     },
     "metadata": {},
     "output_type": "display_data"
    }
   ],
   "source": [
    "var.test(BodyMass ~ Sex, data = df)"
   ]
  },
  {
   "cell_type": "code",
   "execution_count": 8,
   "metadata": {
    "vscode": {
     "languageId": "r"
    }
   },
   "outputs": [
    {
     "data": {
      "text/plain": [
       "\n",
       "\tWelch Two Sample t-test\n",
       "\n",
       "data:  BodyMass by Sex\n",
       "t = 8.3557, df = 68.962, p-value = 4.486e-12\n",
       "alternative hypothesis: true difference in means between group Female and group Male is not equal to 0\n",
       "95 percent confidence interval:\n",
       "  7.120925 11.587684\n",
       "sample estimates:\n",
       "mean in group Female   mean in group Male \n",
       "            54.63235             45.27805 \n"
      ]
     },
     "metadata": {},
     "output_type": "display_data"
    },
    {
     "data": {
      "text/plain": [
       "\n",
       "\tTwo Sample t-test\n",
       "\n",
       "data:  BodyMass by Sex\n",
       "t = 8.3972, df = 73, p-value = 2.524e-12\n",
       "alternative hypothesis: true difference in means between group Female and group Male is not equal to 0\n",
       "95 percent confidence interval:\n",
       "  7.134153 11.574456\n",
       "sample estimates:\n",
       "mean in group Female   mean in group Male \n",
       "            54.63235             45.27805 \n"
      ]
     },
     "metadata": {},
     "output_type": "display_data"
    }
   ],
   "source": [
    "t.test(BodyMass ~ Sex, data = df, alternative = \"two.sided\")\n",
    "t.test(BodyMass ~ Sex, data = df, var.equal = TRUE, alternative = \"two.sided\")"
   ]
  },
  {
   "cell_type": "markdown",
   "metadata": {},
   "source": [
    "Yes there is a significant difference between bodymass by gender. And the bodymass of female is probably larger than that of male in the population."
   ]
  },
  {
   "cell_type": "markdown",
   "metadata": {},
   "source": [
    "## Question 10"
   ]
  },
  {
   "cell_type": "code",
   "execution_count": 9,
   "metadata": {
    "vscode": {
     "languageId": "r"
    }
   },
   "outputs": [
    {
     "name": "stdout",
     "output_type": "stream",
     "text": [
      "       \n",
      "        Female Male\n",
      "  Day       14   22\n",
      "  Night     20   19\n"
     ]
    }
   ],
   "source": [
    "contingency_table <- table(df$Captured, df$Sex)\n",
    "print(contingency_table)"
   ]
  },
  {
   "cell_type": "code",
   "execution_count": 10,
   "metadata": {
    "vscode": {
     "languageId": "r"
    }
   },
   "outputs": [
    {
     "data": {
      "text/plain": [
       "\n",
       "\tPearson's Chi-squared test\n",
       "\n",
       "data:  contingency_table\n",
       "X-squared = 1.1602, df = 1, p-value = 0.2814\n"
      ]
     },
     "metadata": {},
     "output_type": "display_data"
    },
    {
     "data": {
      "text/plain": [
       "\n",
       "\tPearson's Chi-squared test\n",
       "\n",
       "data:  df$Sex and df$Captured\n",
       "X-squared = 1.1602, df = 1, p-value = 0.2814\n"
      ]
     },
     "metadata": {},
     "output_type": "display_data"
    }
   ],
   "source": [
    "# no need to do the correction adjustment, there's no unit smaller than 5\n",
    "chisq.test(contingency_table, correct = FALSE) \n",
    "# or, we can equally run another command\n",
    "chisq.test(df$Sex, df$Captured, correct = FALSE)\n"
   ]
  },
  {
   "cell_type": "markdown",
   "metadata": {},
   "source": [
    "p-value is 0.2814, which is larger than 0.05, so we cannot reject the null hypothesisi, which is that there isn't an association between Captured and Sex.\n",
    "\n",
    "Next we are gonna to do the chisq test manually:"
   ]
  },
  {
   "cell_type": "code",
   "execution_count": 11,
   "metadata": {
    "vscode": {
     "languageId": "r"
    }
   },
   "outputs": [
    {
     "name": "stdout",
     "output_type": "stream",
     "text": [
      "[1] 1.160192\n"
     ]
    }
   ],
   "source": [
    "mat <- matrix(contingency_table, nrow = 2, byrow = TRUE)\n",
    "\n",
    "chi_statistics <- 0\n",
    "\n",
    "for (i in 1:2){\n",
    "    for (j in 1:2){\n",
    "        row_sum <- sum(mat[i, ])\n",
    "        col_sum <- sum(mat[, j])\n",
    "        eij <- row_sum * col_sum / sum(contingency_table)\n",
    "        \n",
    "        temp <- (mat[i, j] - eij) ** 2 / eij\n",
    "        chi_statistics = chi_statistics + temp\n",
    "    }\n",
    "}\n",
    "\n",
    "print(chi_statistics)"
   ]
  },
  {
   "cell_type": "markdown",
   "metadata": {},
   "source": [
    "We got the same chi-statistics as that generated by built-in function."
   ]
  },
  {
   "cell_type": "code",
   "execution_count": null,
   "metadata": {
    "vscode": {
     "languageId": "r"
    }
   },
   "outputs": [],
   "source": []
  }
 ],
 "metadata": {
  "kernelspec": {
   "display_name": "R",
   "language": "R",
   "name": "ir"
  },
  "language_info": {
   "codemirror_mode": "r",
   "file_extension": ".r",
   "mimetype": "text/x-r-source",
   "name": "R",
   "pygments_lexer": "r",
   "version": "4.4.1"
  }
 },
 "nbformat": 4,
 "nbformat_minor": 2
}
